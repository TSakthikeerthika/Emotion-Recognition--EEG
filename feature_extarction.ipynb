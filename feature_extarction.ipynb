{
  "nbformat": 4,
  "nbformat_minor": 0,
  "metadata": {
    "colab": {
      "provenance": [],
      "authorship_tag": "ABX9TyPxt3z1UMyfrR9tB2gCt0nV",
      "include_colab_link": true
    },
    "kernelspec": {
      "name": "python3",
      "display_name": "Python 3"
    },
    "language_info": {
      "name": "python"
    }
  },
  "cells": [
    {
      "cell_type": "markdown",
      "metadata": {
        "id": "view-in-github",
        "colab_type": "text"
      },
      "source": [
        "<a href=\"https://colab.research.google.com/github/Sakthikeerthika-T/Emotion-recognition-eeg-/blob/main/feature_extarction.ipynb\" target=\"_parent\"><img src=\"https://colab.research.google.com/assets/colab-badge.svg\" alt=\"Open In Colab\"/></a>"
      ]
    },
    {
      "cell_type": "markdown",
      "source": [
        "# connect to drive :"
      ],
      "metadata": {
        "id": "EkGmh0qBW57i"
      }
    },
    {
      "cell_type": "code",
      "execution_count": null,
      "metadata": {
        "colab": {
          "base_uri": "https://localhost:8080/"
        },
        "id": "409_Lcctsr25",
        "outputId": "9ffcbe0e-6373-40f2-d83f-5651912cd785"
      },
      "outputs": [
        {
          "output_type": "stream",
          "name": "stdout",
          "text": [
            "Mounted at /content/drive\n"
          ]
        }
      ],
      "source": [
        "from google.colab import drive\n",
        "drive.mount('/content/drive')"
      ]
    },
    {
      "cell_type": "markdown",
      "source": [
        "# Import modules :"
      ],
      "metadata": {
        "id": "awLFThuvW9Zz"
      }
    },
    {
      "cell_type": "markdown",
      "source": [],
      "metadata": {
        "id": "j73L6v7TW_gB"
      }
    },
    {
      "cell_type": "code",
      "source": [
        "# import packages, libraries\n",
        "from scipy.io import loadmat\n",
        "import numpy as np\n",
        "import matplotlib.pyplot as plt\n",
        "import scipy.io\n",
        "\n",
        "!pip install mne\n",
        "import mne\n",
        "\n",
        "from scipy.signal import welch\n",
        "import pywt\n",
        "import scipy.io as sio"
      ],
      "metadata": {
        "colab": {
          "base_uri": "https://localhost:8080/"
        },
        "id": "XweOCLprWcBx",
        "outputId": "3ee1a885-4dfe-43d9-f792-00849c30429e"
      },
      "execution_count": null,
      "outputs": [
        {
          "output_type": "stream",
          "name": "stdout",
          "text": [
            "Collecting mne\n",
            "  Downloading mne-1.4.2-py3-none-any.whl (7.7 MB)\n",
            "\u001b[?25l     \u001b[90m━━━━━━━━━━━━━━━━━━━━━━━━━━━━━━━━━━━━━━━━\u001b[0m \u001b[32m0.0/7.7 MB\u001b[0m \u001b[31m?\u001b[0m eta \u001b[36m-:--:--\u001b[0m\r\u001b[2K     \u001b[91m━\u001b[0m\u001b[90m╺\u001b[0m\u001b[90m━━━━━━━━━━━━━━━━━━━━━━━━━━━━━━━━━━━━━━\u001b[0m \u001b[32m0.3/7.7 MB\u001b[0m \u001b[31m8.5 MB/s\u001b[0m eta \u001b[36m0:00:01\u001b[0m\r\u001b[2K     \u001b[91m━━━━━━━━━━━\u001b[0m\u001b[91m╸\u001b[0m\u001b[90m━━━━━━━━━━━━━━━━━━━━━━━━━━━━\u001b[0m \u001b[32m2.2/7.7 MB\u001b[0m \u001b[31m32.6 MB/s\u001b[0m eta \u001b[36m0:00:01\u001b[0m\r\u001b[2K     \u001b[91m━━━━━━━━━━━━━━━━━━━━━━━━━━━━━━━━━━\u001b[0m\u001b[91m╸\u001b[0m\u001b[90m━━━━━\u001b[0m \u001b[32m6.7/7.7 MB\u001b[0m \u001b[31m64.0 MB/s\u001b[0m eta \u001b[36m0:00:01\u001b[0m\r\u001b[2K     \u001b[91m━━━━━━━━━━━━━━━━━━━━━━━━━━━━━━━━━━━━━━━\u001b[0m\u001b[91m╸\u001b[0m \u001b[32m7.7/7.7 MB\u001b[0m \u001b[31m66.5 MB/s\u001b[0m eta \u001b[36m0:00:01\u001b[0m\r\u001b[2K     \u001b[90m━━━━━━━━━━━━━━━━━━━━━━━━━━━━━━━━━━━━━━━━\u001b[0m \u001b[32m7.7/7.7 MB\u001b[0m \u001b[31m49.3 MB/s\u001b[0m eta \u001b[36m0:00:00\u001b[0m\n",
            "\u001b[?25hRequirement already satisfied: numpy>=1.15.4 in /usr/local/lib/python3.10/dist-packages (from mne) (1.22.4)\n",
            "Requirement already satisfied: scipy>=1.6.3 in /usr/local/lib/python3.10/dist-packages (from mne) (1.10.1)\n",
            "Requirement already satisfied: matplotlib>=3.4.0 in /usr/local/lib/python3.10/dist-packages (from mne) (3.7.1)\n",
            "Requirement already satisfied: tqdm in /usr/local/lib/python3.10/dist-packages (from mne) (4.65.0)\n",
            "Requirement already satisfied: pooch>=1.5 in /usr/local/lib/python3.10/dist-packages (from mne) (1.6.0)\n",
            "Requirement already satisfied: decorator in /usr/local/lib/python3.10/dist-packages (from mne) (4.4.2)\n",
            "Requirement already satisfied: packaging in /usr/local/lib/python3.10/dist-packages (from mne) (23.1)\n",
            "Requirement already satisfied: jinja2 in /usr/local/lib/python3.10/dist-packages (from mne) (3.1.2)\n",
            "Requirement already satisfied: contourpy>=1.0.1 in /usr/local/lib/python3.10/dist-packages (from matplotlib>=3.4.0->mne) (1.1.0)\n",
            "Requirement already satisfied: cycler>=0.10 in /usr/local/lib/python3.10/dist-packages (from matplotlib>=3.4.0->mne) (0.11.0)\n",
            "Requirement already satisfied: fonttools>=4.22.0 in /usr/local/lib/python3.10/dist-packages (from matplotlib>=3.4.0->mne) (4.40.0)\n",
            "Requirement already satisfied: kiwisolver>=1.0.1 in /usr/local/lib/python3.10/dist-packages (from matplotlib>=3.4.0->mne) (1.4.4)\n",
            "Requirement already satisfied: pillow>=6.2.0 in /usr/local/lib/python3.10/dist-packages (from matplotlib>=3.4.0->mne) (8.4.0)\n",
            "Requirement already satisfied: pyparsing>=2.3.1 in /usr/local/lib/python3.10/dist-packages (from matplotlib>=3.4.0->mne) (3.1.0)\n",
            "Requirement already satisfied: python-dateutil>=2.7 in /usr/local/lib/python3.10/dist-packages (from matplotlib>=3.4.0->mne) (2.8.2)\n",
            "Requirement already satisfied: appdirs>=1.3.0 in /usr/local/lib/python3.10/dist-packages (from pooch>=1.5->mne) (1.4.4)\n",
            "Requirement already satisfied: requests>=2.19.0 in /usr/local/lib/python3.10/dist-packages (from pooch>=1.5->mne) (2.27.1)\n",
            "Requirement already satisfied: MarkupSafe>=2.0 in /usr/local/lib/python3.10/dist-packages (from jinja2->mne) (2.1.3)\n",
            "Requirement already satisfied: six>=1.5 in /usr/local/lib/python3.10/dist-packages (from python-dateutil>=2.7->matplotlib>=3.4.0->mne) (1.16.0)\n",
            "Requirement already satisfied: urllib3<1.27,>=1.21.1 in /usr/local/lib/python3.10/dist-packages (from requests>=2.19.0->pooch>=1.5->mne) (1.26.16)\n",
            "Requirement already satisfied: certifi>=2017.4.17 in /usr/local/lib/python3.10/dist-packages (from requests>=2.19.0->pooch>=1.5->mne) (2023.5.7)\n",
            "Requirement already satisfied: charset-normalizer~=2.0.0 in /usr/local/lib/python3.10/dist-packages (from requests>=2.19.0->pooch>=1.5->mne) (2.0.12)\n",
            "Requirement already satisfied: idna<4,>=2.5 in /usr/local/lib/python3.10/dist-packages (from requests>=2.19.0->pooch>=1.5->mne) (3.4)\n",
            "Installing collected packages: mne\n",
            "Successfully installed mne-1.4.2\n"
          ]
        }
      ]
    },
    {
      "cell_type": "markdown",
      "source": [
        "# load dataset :"
      ],
      "metadata": {
        "id": "rUFPvdP-XJW1"
      }
    },
    {
      "cell_type": "code",
      "source": [
        "file_path = '/content/drive/MyDrive/dataset folder/s32.mat'"
      ],
      "metadata": {
        "id": "jn-6m5yztICk"
      },
      "execution_count": null,
      "outputs": []
    },
    {
      "cell_type": "code",
      "execution_count": null,
      "metadata": {
        "colab": {
          "base_uri": "https://localhost:8080/"
        },
        "id": "MXe7WUiD3VYO",
        "outputId": "7ad5a40f-599b-444d-81e5-20c67d7c2877"
      },
      "outputs": [
        {
          "output_type": "stream",
          "name": "stdout",
          "text": [
            "dict_keys(['__header__', '__version__', '__globals__', 'labels', 'data'])\n"
          ]
        }
      ],
      "source": [
        "dataset = scipy.io.loadmat(file_path)   #loading dataset\n",
        "variables = dataset.keys()\n",
        "print(variables)    #print data_dictionary keys"
      ]
    },
    {
      "cell_type": "code",
      "source": [
        "data = dataset['data']\n",
        "label = dataset['labels']\n",
        "print(data.shape)\n",
        "print(label.shape)\n",
        "type(data)\n",
        "type(label)"
      ],
      "metadata": {
        "id": "c8fs90_YxDLR",
        "colab": {
          "base_uri": "https://localhost:8080/"
        },
        "outputId": "7c8ec204-ae67-4136-dde2-997533a6a705"
      },
      "execution_count": null,
      "outputs": [
        {
          "output_type": "stream",
          "name": "stdout",
          "text": [
            "(40, 40, 8064)\n",
            "(40, 4)\n"
          ]
        },
        {
          "output_type": "execute_result",
          "data": {
            "text/plain": [
              "numpy.ndarray"
            ]
          },
          "metadata": {},
          "execution_count": 25
        }
      ]
    },
    {
      "cell_type": "code",
      "source": [
        "eeg_data = data[:, :-8, :]\n",
        "type(eeg_data)\n",
        "eeg_data.shape"
      ],
      "metadata": {
        "colab": {
          "base_uri": "https://localhost:8080/"
        },
        "id": "WkD7drSBX5r5",
        "outputId": "dd776f9d-501a-4c39-bb66-ced8f6c33e6e"
      },
      "execution_count": null,
      "outputs": [
        {
          "output_type": "execute_result",
          "data": {
            "text/plain": [
              "(40, 32, 8064)"
            ]
          },
          "metadata": {},
          "execution_count": 26
        }
      ]
    },
    {
      "cell_type": "markdown",
      "source": [
        "# FEATURE EXTRACTION :"
      ],
      "metadata": {
        "id": "C_gcP2SLYU7m"
      }
    },
    {
      "cell_type": "code",
      "execution_count": null,
      "metadata": {
        "id": "I_EeqFAf0UqX"
      },
      "outputs": [],
      "source": [
        "def compute_activity(data):\n",
        "    activity = np.sum(np.abs(data), axis=2) / data.shape[2]         #axis = 2 means number of samples\n",
        "    return activity\n",
        "\n",
        "def compute_mobility(data):\n",
        "    mobility = np.sqrt(np.var(data, axis=2))\n",
        "    return mobility\n",
        "\n",
        "def compute_complexity(data):\n",
        "    gradients = np.gradient(data, axis=2)\n",
        "    complexity = np.divide(np.sqrt(np.var(gradients, axis=2)), compute_mobility(data))\n",
        "    return complexity"
      ]
    },
    {
      "cell_type": "code",
      "execution_count": null,
      "metadata": {
        "id": "G2fdyQG-08Sx"
      },
      "outputs": [],
      "source": [
        "def compute_sum_first_diff(data):\n",
        "    first_diff = np.diff(data, axis=2)\n",
        "    sum_first_diff = np.sum(first_diff, axis=2)\n",
        "    return sum_first_diff\n",
        "\n",
        "\n",
        "def compute_sum_normalized_first_diff(data):\n",
        "    first_diff = np.diff(data, axis=2)\n",
        "    normalized_first_diff = first_diff / np.std(first_diff, axis=2, keepdims=True)\n",
        "    sum_normalized_first_diff = np.sum(normalized_first_diff, axis=2)\n",
        "    return sum_normalized_first_diff\n"
      ]
    },
    {
      "cell_type": "code",
      "execution_count": null,
      "metadata": {
        "id": "Mk0yRjaf8A24"
      },
      "outputs": [],
      "source": [
        "def band_power_extraction(data, fs = 128):\n",
        "    # Define the frequency bands\n",
        "    frequency_bands = {\n",
        "        'delta': (0.5, 4),\n",
        "        'theta': (4, 8),\n",
        "        'alpha': (8, 13),\n",
        "        'beta': (13, 30),\n",
        "        'gamma': (30, 45)\n",
        "    }\n",
        "\n",
        "    # Compute the power spectral density for each channel and trial\n",
        "    num_trials, num_channels, num_samples = data.shape\n",
        "    power_array = np.zeros((num_trials, num_channels, len(frequency_bands)))\n",
        "\n",
        "    for trial_idx in range(num_trials):\n",
        "        for channel_idx in range(num_channels):\n",
        "            channel_data = data[trial_idx, channel_idx, :]\n",
        "            for band_idx, (f_low, f_high) in enumerate(frequency_bands.values()):\n",
        "                f, Pxx = welch(channel_data, fs=fs, nperseg=256, noverlap=128)\n",
        "                power_array[trial_idx, channel_idx, band_idx] = np.sum(Pxx[(f >= f_low) & (f <= f_high)])\n",
        "\n",
        "    return power_array\n"
      ]
    },
    {
      "cell_type": "code",
      "execution_count": null,
      "metadata": {
        "id": "GdsIXqtv8Gpn"
      },
      "outputs": [],
      "source": [
        "band_powers = band_power_extraction(eeg_data)"
      ]
    },
    {
      "cell_type": "code",
      "execution_count": null,
      "metadata": {
        "id": "xMtrLKjh3yz5"
      },
      "outputs": [],
      "source": [
        "array1 = band_powers[..., 0]\n",
        "array2 = band_powers[..., 1]\n",
        "array3 = band_powers[..., 2]\n",
        "array4 = band_powers[..., 3]\n",
        "array5 = band_powers[..., 4]"
      ]
    },
    {
      "cell_type": "code",
      "execution_count": null,
      "metadata": {
        "colab": {
          "base_uri": "https://localhost:8080/"
        },
        "id": "Ij5xEHi_zGV6",
        "outputId": "e876aac6-c25c-425a-c3fb-eb3431a0da89"
      },
      "outputs": [
        {
          "output_type": "stream",
          "name": "stdout",
          "text": [
            "(40, 32)\n"
          ]
        }
      ],
      "source": [
        "#import numpy as np\n",
        "\n",
        "def compute_higher_order_crossing(data, threshold=0):\n",
        "    binary_sequence = np.sign(data - threshold)\n",
        "    crossings = np.sum(np.abs(np.diff(binary_sequence, axis=2)), axis=2) / 2\n",
        "    return crossings\n",
        "\n",
        "hoc_result = compute_higher_order_crossing(eeg_data)\n",
        "\n",
        "# Print the shape of the resulting HOC array\n",
        "print(hoc_result.shape)\n"
      ]
    },
    {
      "cell_type": "code",
      "source": [
        "def calculate_dwt_rms(data):\n",
        "    trials, channels, samples = data.shape\n",
        "    rms_values = np.zeros((trials, channels))\n",
        "\n",
        "    for trial in range(trials):\n",
        "        for channel in range(channels):\n",
        "            dwt_coeffs = pywt.dwt(data[trial, channel, :], 'db1')  # Perform DWT using 'db1' wavelet\n",
        "            dwt_rms = np.sqrt(np.mean(np.square(dwt_coeffs)))\n",
        "            rms_values[trial, channel] = dwt_rms\n",
        "\n",
        "    return rms_values\n",
        "\n",
        "\n",
        "\n",
        "def calculate_dwt_ree(data):\n",
        "    trials, channels, samples = data.shape\n",
        "    ree_values = np.zeros((trials, channels))\n",
        "\n",
        "    for trial in range(trials):\n",
        "        for channel in range(channels):\n",
        "            dwt_coeffs = pywt.dwt(data[trial, channel, :], 'db1')  # Perform DWT using 'db1' wavelet\n",
        "            energy = np.sum(np.square(dwt_coeffs))\n",
        "            ree = energy / (samples * np.var(data[trial, channel, :]))\n",
        "            ree_values[trial, channel] = ree\n",
        "\n",
        "    return ree_values\n",
        "\n"
      ],
      "metadata": {
        "id": "eh0KsfuAucV4"
      },
      "execution_count": null,
      "outputs": []
    },
    {
      "cell_type": "code",
      "source": [
        "def concatenate_features_(data):\n",
        "    activity = compute_activity(data)\n",
        "    mobility = compute_mobility(data)\n",
        "    complexity = compute_complexity(data)\n",
        "    sum_first_diff = compute_sum_first_diff(data)\n",
        "    sum_normalized_first_diff = compute_sum_normalized_first_diff(data)\n",
        "    higher_order_crossing = compute_higher_order_crossing(data, threshold=0)\n",
        "    dwt_ree = calculate_dwt_ree(data)\n",
        "    dwt_rms =calculate_dwt_rms(data)\n",
        "\n",
        "\n",
        "    print(\"Shape of activity:\", activity.shape)\n",
        "    print(\"Shape of mobility:\", mobility.shape)\n",
        "    print(\"Shape of complexity:\", complexity.shape)\n",
        "    print(\"Shape of sum_first_diff:\", sum_first_diff.shape)\n",
        "    print(\"Shape of sum_normalized_first_diff:\", sum_normalized_first_diff.shape)\n",
        "    print(\"Shape of higher_order_crossing:\", higher_order_crossing.shape)\n",
        "    print(\"shape of dwt_rms:\",dwt_rms.shape)\n",
        "    print(\"shape of dwt_ree:\",dwt_ree.shape)\n",
        "\n",
        "    # Perform the concatenation\n",
        "    features = np.concatenate((activity, mobility, complexity, sum_first_diff,\n",
        "                               sum_normalized_first_diff, higher_order_crossing,\n",
        "                               array1, array2, array3, array4, array5,\n",
        "                               dwt_rms, dwt_ree), axis=-1)\n",
        "\n",
        "    return features\n"
      ],
      "metadata": {
        "id": "fMYv7oun1o-w"
      },
      "execution_count": null,
      "outputs": []
    },
    {
      "cell_type": "code",
      "source": [
        "final = concatenate_features_(eeg_data)\n",
        "print(\"\\nfinal_features_shape\",final.shape)"
      ],
      "metadata": {
        "colab": {
          "base_uri": "https://localhost:8080/"
        },
        "id": "srG77BZ5cGdu",
        "outputId": "af5269df-3bfb-4fb4-911a-258a26d7503e"
      },
      "execution_count": null,
      "outputs": [
        {
          "output_type": "stream",
          "name": "stdout",
          "text": [
            "Shape of activity: (40, 32)\n",
            "Shape of mobility: (40, 32)\n",
            "Shape of complexity: (40, 32)\n",
            "Shape of sum_first_diff: (40, 32)\n",
            "Shape of sum_normalized_first_diff: (40, 32)\n",
            "Shape of higher_order_crossing: (40, 32)\n",
            "shape of dwt_rms: (40, 32)\n",
            "shape of dwt_ree: (40, 32)\n",
            "\n",
            "final_features_shape (40, 416)\n"
          ]
        }
      ]
    },
    {
      "cell_type": "markdown",
      "source": [
        "# LABELS :"
      ],
      "metadata": {
        "id": "NRqjQ33dc7UL"
      }
    },
    {
      "cell_type": "code",
      "source": [
        "label.shape"
      ],
      "metadata": {
        "colab": {
          "base_uri": "https://localhost:8080/"
        },
        "id": "VY4cz6okdHz0",
        "outputId": "fd7fb592-6082-4a76-8224-3b5e13d7a7ed"
      },
      "execution_count": null,
      "outputs": [
        {
          "output_type": "execute_result",
          "data": {
            "text/plain": [
              "(40, 4)"
            ]
          },
          "metadata": {},
          "execution_count": 36
        }
      ]
    },
    {
      "cell_type": "code",
      "source": [
        "valance,ars,dom,lh = label[:, 0] , label[:,1],label[:,2],label[:,3]\n",
        "print(valance.shape, ars.shape ,dom.shape, lh.shape)\n",
        "\n",
        "valance_2D , ars_2d , dom_2d , lh_2d = valance.reshape((40, 1)),ars.reshape(40,1),dom.reshape(40,1),lh.reshape(40,1)\n"
      ],
      "metadata": {
        "colab": {
          "base_uri": "https://localhost:8080/"
        },
        "id": "wp8KkQsn78Hy",
        "outputId": "40e9b296-677d-4d83-e69d-d9cc17f2d930"
      },
      "execution_count": null,
      "outputs": [
        {
          "output_type": "stream",
          "name": "stdout",
          "text": [
            "(40,) (40,) (40,) (40,)\n"
          ]
        }
      ]
    },
    {
      "cell_type": "markdown",
      "source": [
        "# valance :"
      ],
      "metadata": {
        "id": "ka4a72b3e_BC"
      }
    },
    {
      "cell_type": "code",
      "source": [
        "# Define the thresholds for the discrete labels\n",
        "average = np.mean(valance_2D )\n",
        "print(\"average valance is : \" , average,\"\\n\")\n",
        "\n",
        "# Define the labels for each range\n",
        "label_low = \"Low\"\n",
        "label_high = \"High\"\n",
        "\n",
        "# Function to convert continuous label to discrete label\n",
        "def convert_label(value):\n",
        "    if value < average:\n",
        "        return label_low\n",
        "    else:\n",
        "        return label_high\n",
        "\n",
        "# Iterate over each label and convert it to the discrete label\n",
        "discrete_labels = [convert_label(label) for label in valance_2D ]\n",
        "\n",
        "# Print the converted labels for first 5 viedos\n",
        "for i in range(5):\n",
        "    print(f\"Original label: {valance_2D [i]}, Converted label: {discrete_labels[i]}\")\n",
        "\n",
        "d_valance= np.array(discrete_labels)                     # shape------(40,)\n",
        "\n",
        "#discrete_labels_array = np.reshape(discrete_labels_array, (-1, 1))   # shape ------------ (40,1)\n",
        "\n",
        "print(\"\\n shape of discrete_labels array \",d_valance.shape)\n",
        "print(\"\\n\",d_valance)\n"
      ],
      "metadata": {
        "colab": {
          "base_uri": "https://localhost:8080/"
        },
        "id": "FNB_j63mPMDr",
        "outputId": "1ebbd6a9-128c-4f52-dceb-fd7fcae3310e"
      },
      "execution_count": null,
      "outputs": [
        {
          "output_type": "stream",
          "name": "stdout",
          "text": [
            "average valance is :  5.3125 \n",
            "\n",
            "Original label: [8.13], Converted label: High\n",
            "Original label: [4.99], Converted label: Low\n",
            "Original label: [8.05], Converted label: High\n",
            "Original label: [6.96], Converted label: High\n",
            "Original label: [7.15], Converted label: High\n",
            "\n",
            " shape of discrete_labels array  (40,)\n",
            "\n",
            " ['High' 'Low' 'High' 'High' 'High' 'High' 'Low' 'High' 'High' 'Low' 'High'\n",
            " 'High' 'High' 'High' 'Low' 'Low' 'High' 'High' 'High' 'High' 'Low' 'Low'\n",
            " 'Low' 'Low' 'Low' 'Low' 'High' 'High' 'Low' 'Low' 'Low' 'Low' 'Low' 'Low'\n",
            " 'Low' 'Low' 'Low' 'Low' 'Low' 'High']\n"
          ]
        }
      ]
    },
    {
      "cell_type": "markdown",
      "source": [
        "# ARS"
      ],
      "metadata": {
        "id": "wgQxc5GKfDPw"
      }
    },
    {
      "cell_type": "code",
      "source": [
        "# Define the thresholds for the discrete labels\n",
        "average = np.mean(ars_2d)\n",
        "print(\"average valance is : \" , average,\"\\n\")\n",
        "\n",
        "# Define the labels for each range\n",
        "label_low = \"Low\"\n",
        "label_high = \"High\"\n",
        "\n",
        "# Function to convert continuous label to discrete label\n",
        "def convert_label(value):\n",
        "    if value < average:\n",
        "        return label_low\n",
        "    else:\n",
        "        return label_high\n",
        "\n",
        "# Iterate over each label and convert it to the discrete label\n",
        "discrete_labels = [convert_label(label) for label in ars_2d]\n",
        "\n",
        "# Print the converted labels for first 5 viedos\n",
        "for i in range(5):\n",
        "    print(f\"Original label: {ars_2d [i]}, Converted label: {discrete_labels[i]}\")\n",
        "\n",
        "d_ars= np.array(discrete_labels)                     # shape------(40,)\n",
        "\n",
        "#discrete_labels_array = np.reshape(discrete_labels_array, (-1, 1))   # shape ------------ (40,1)\n",
        "\n",
        "print(\"\\n shape of discrete_labels array \",d_ars.shape)\n",
        "print(\"\\n\",d_ars)\n"
      ],
      "metadata": {
        "colab": {
          "base_uri": "https://localhost:8080/"
        },
        "outputId": "b0b98b12-aebe-4452-b19c-fd72ae469361",
        "id": "K3a1nEQSfJT3"
      },
      "execution_count": null,
      "outputs": [
        {
          "output_type": "stream",
          "name": "stdout",
          "text": [
            "average valance is :  5.54425 \n",
            "\n",
            "Original label: [4.83], Converted label: Low\n",
            "Original label: [2.99], Converted label: Low\n",
            "Original label: [7.09], Converted label: High\n",
            "Original label: [5.14], Converted label: Low\n",
            "Original label: [5.94], Converted label: High\n",
            "\n",
            " shape of discrete_labels array  (40,)\n",
            "\n",
            " ['Low' 'Low' 'High' 'Low' 'High' 'Low' 'Low' 'High' 'Low' 'High' 'High'\n",
            " 'Low' 'Low' 'High' 'Low' 'High' 'Low' 'High' 'High' 'Low' 'High' 'High'\n",
            " 'High' 'High' 'High' 'Low' 'High' 'Low' 'High' 'High' 'High' 'High' 'Low'\n",
            " 'High' 'High' 'High' 'High' 'High' 'High' 'Low']\n"
          ]
        }
      ]
    },
    {
      "cell_type": "markdown",
      "source": [
        "# DOMINANCE :"
      ],
      "metadata": {
        "id": "chOMjly8foH8"
      }
    },
    {
      "cell_type": "code",
      "source": [
        "# Define the thresholds for the discrete labels\n",
        "average = np.mean(dom_2d)\n",
        "print(\"average valance is : \" , average,\"\\n\")\n",
        "\n",
        "# Define the labels for each range\n",
        "label_low = \"Low\"\n",
        "label_high = \"High\"\n",
        "\n",
        "# Function to convert continuous label to discrete label\n",
        "def convert_label(value):\n",
        "    if value < average:\n",
        "        return label_low\n",
        "    else:\n",
        "        return label_high\n",
        "\n",
        "# Iterate over each label and convert it to the discrete label\n",
        "discrete_labels = [convert_label(label) for label in dom_2d]\n",
        "\n",
        "# Print the converted labels for first 5 viedos\n",
        "for i in range(5):\n",
        "    print(f\"Original label: {dom_2d[i]}, Converted label: {discrete_labels[i]}\")\n",
        "\n",
        "d_dom= np.array(discrete_labels)                     # shape------(40,)\n",
        "\n",
        "#discrete_labels_array = np.reshape(discrete_labels_array, (-1, 1))   # shape ------------ (40,1)\n",
        "\n",
        "print(\"\\n shape of discrete_labels array \",d_dom.shape)\n",
        "print(\"\\n\",d_dom)\n"
      ],
      "metadata": {
        "colab": {
          "base_uri": "https://localhost:8080/"
        },
        "outputId": "08c6a55f-2c0e-4214-d6e5-bb9bdc250596",
        "id": "ITaNZowkfvRi"
      },
      "execution_count": null,
      "outputs": [
        {
          "output_type": "stream",
          "name": "stdout",
          "text": [
            "average valance is :  7.792500000000001 \n",
            "\n",
            "Original label: [9.], Converted label: High\n",
            "Original label: [7.96], Converted label: High\n",
            "Original label: [8.86], Converted label: High\n",
            "Original label: [9.], Converted label: High\n",
            "Original label: [9.], Converted label: High\n",
            "\n",
            " shape of discrete_labels array  (40,)\n",
            "\n",
            " ['High' 'High' 'High' 'High' 'High' 'High' 'High' 'High' 'High' 'High'\n",
            " 'High' 'High' 'High' 'High' 'High' 'Low' 'High' 'High' 'High' 'High'\n",
            " 'Low' 'High' 'Low' 'Low' 'High' 'High' 'High' 'High' 'High' 'Low' 'Low'\n",
            " 'Low' 'Low' 'Low' 'Low' 'Low' 'Low' 'Low' 'Low' 'High']\n"
          ]
        }
      ]
    },
    {
      "cell_type": "markdown",
      "source": [
        "# liklehood :"
      ],
      "metadata": {
        "id": "CymWrbw0gSiP"
      }
    },
    {
      "cell_type": "code",
      "source": [
        "# Define the thresholds for the discrete labels\n",
        "average = np.mean(lh_2d )\n",
        "print(\"average valance is : \" , average,\"\\n\")\n",
        "\n",
        "# Define the labels for each range\n",
        "label_low = \"Low\"\n",
        "label_high = \"High\"\n",
        "\n",
        "# Function to convert continuous label to discrete label\n",
        "def convert_label(value):\n",
        "    if value < average:\n",
        "        return label_low\n",
        "    else:\n",
        "        return label_high\n",
        "\n",
        "# Iterate over each label and convert it to the discrete label\n",
        "discrete_labels = [convert_label(label) for label in lh_2d]\n",
        "\n",
        "# Print the converted labels for first 5 viedos\n",
        "for i in range(5):\n",
        "    print(f\"Original label: {lh_2d [i]}, Converted label: {discrete_labels[i]}\")\n",
        "\n",
        "d_lh = np.array(discrete_labels)                     # shape------(40,)\n",
        "\n",
        "#discrete_labels_array = np.reshape(discrete_labels_array, (-1, 1))   # shape ------------ (40,1)\n",
        "\n",
        "print(\"\\n shape of discrete_labels array \",d_lh.shape)\n",
        "print(\"\\n\",d_lh)\n"
      ],
      "metadata": {
        "colab": {
          "base_uri": "https://localhost:8080/"
        },
        "outputId": "93c511ea-357e-4795-e61e-924e104d0ee9",
        "id": "OBSAP5uggWrV"
      },
      "execution_count": null,
      "outputs": [
        {
          "output_type": "stream",
          "name": "stdout",
          "text": [
            "average valance is :  4.5595 \n",
            "\n",
            "Original label: [4.87], Converted label: High\n",
            "Original label: [1.01], Converted label: Low\n",
            "Original label: [7.08], Converted label: High\n",
            "Original label: [6.14], Converted label: High\n",
            "Original label: [4.81], Converted label: High\n",
            "\n",
            " shape of discrete_labels array  (40,)\n",
            "\n",
            " ['High' 'Low' 'High' 'High' 'High' 'Low' 'Low' 'High' 'High' 'Low' 'High'\n",
            " 'High' 'High' 'High' 'Low' 'High' 'Low' 'High' 'High' 'High' 'Low' 'High'\n",
            " 'High' 'High' 'High' 'Low' 'High' 'High' 'Low' 'High' 'Low' 'High' 'Low'\n",
            " 'Low' 'Low' 'Low' 'Low' 'Low' 'Low' 'Low']\n"
          ]
        }
      ]
    },
    {
      "cell_type": "markdown",
      "source": [
        "# SAVE FEATURES ,LABELS AS FILE :"
      ],
      "metadata": {
        "id": "dl6yGBkkgtQt"
      }
    },
    {
      "cell_type": "code",
      "source": [
        "save_path= '/content/drive/MyDrive/dataset folder/deap_32.mat'\n",
        "sio.savemat(save_path, {  'data' : final ,  'labels_v': d_valance , 'labels_a': d_ars ,'labels_d' :d_dom ,'labels_l' :d_lh})"
      ],
      "metadata": {
        "id": "2Gv1OjdHmLKJ"
      },
      "execution_count": null,
      "outputs": []
    }
  ]
}